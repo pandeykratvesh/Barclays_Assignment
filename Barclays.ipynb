{
  "nbformat": 4,
  "nbformat_minor": 0,
  "metadata": {
    "colab": {
      "name": "Barclays.ipynb",
      "provenance": [],
      "toc_visible": true
    },
    "kernelspec": {
      "name": "python3",
      "display_name": "Python 3"
    },
    "language_info": {
      "name": "python"
    }
  },
  "cells": [
    {
      "cell_type": "code",
      "metadata": {
        "id": "9nSkLJmJgHK8",
        "colab": {
          "base_uri": "https://localhost:8080/"
        },
        "outputId": "e4d78099-9841-494d-9432-11e41c53b476"
      },
      "source": [
        "from google.colab import drive\n",
        "drive.mount('/content/drive')\n",
        "\n"
      ],
      "execution_count": null,
      "outputs": [
        {
          "output_type": "stream",
          "text": [
            "Drive already mounted at /content/drive; to attempt to forcibly remount, call drive.mount(\"/content/drive\", force_remount=True).\n"
          ],
          "name": "stdout"
        }
      ]
    },
    {
      "cell_type": "code",
      "metadata": {
        "colab": {
          "base_uri": "https://localhost:8080/"
        },
        "id": "CGDb2ItrgyjY",
        "outputId": "0bdf30c9-3924-445b-e82c-5314e96e38a4"
      },
      "source": [
        "%cd /content/drive/MyDrive/Barclays/\n"
      ],
      "execution_count": null,
      "outputs": [
        {
          "output_type": "stream",
          "text": [
            "/content/drive/MyDrive/Barclays\n"
          ],
          "name": "stdout"
        }
      ]
    },
    {
      "cell_type": "code",
      "metadata": {
        "id": "_GGuIWxLg3ZY"
      },
      "source": [
        "import pandas as pd\n",
        "import numpy as np\n",
        "import matplotlib.pyplot as plt\n",
        "df=pd.read_csv('Bond_Index.csv')#, chunksize=10000, low_memory=False)"
      ],
      "execution_count": null,
      "outputs": []
    },
    {
      "cell_type": "code",
      "metadata": {
        "id": "aqZ5BZ8M3CDG"
      },
      "source": [
        "dates = df['Date'].unique()"
      ],
      "execution_count": null,
      "outputs": []
    },
    {
      "cell_type": "code",
      "metadata": {
        "id": "KL5X74r-hLHy",
        "colab": {
          "base_uri": "https://localhost:8080/",
          "height": 513
        },
        "outputId": "181f62ce-61d3-439a-b266-cb1af3224214"
      },
      "source": [
        "#code to calculate the daily returns and the bond weights in the index\n",
        "total_returns= []\n",
        "for i in range(len(dates)) :\n",
        "  one_set = df[df[\"Date\"]==dates[i]]\n",
        "  total = one_set[\"Market_Value_BOM\"].sum()\n",
        "  bond_weights = one_set[[\"ID\",\"Market_Value_BOM\",\"Excess_Return_MTD\",\"Total_Return_MTD\"]]\n",
        "  bond_weights[\"bond_index_weights\"] = bond_weights[\"Market_Value_BOM\"]/total\n",
        "  bond_weights[\"Index_Total_Return_MTD\"] = bond_weights[\"bond_index_weights\"]*bond_weights[\"Total_Return_MTD\"]\n",
        "  total_returns.append(bond_weights[\"Index_Total_Return_MTD\"].sum())\n",
        "plt.plot(total_returns)\n",
        "plt.show()\n",
        "total_returns= np.asarray(total_returns)\n",
        "total_returns_shifted=[0]\n",
        "total_returns_shifted.extend(total_returns[:-1])\n",
        "daily_returns = total_returns - total_returns_shifted\n",
        "# print(total_returns,\"\\n\", total_returns_shifted)\n",
        "plt.plot(daily_returns,'r')\n",
        "plt.show()\n"
      ],
      "execution_count": null,
      "outputs": [
        {
          "output_type": "display_data",
          "data": {
            "image/png": "[encoded data removed]",
            "text/plain": [
              "<Figure size 432x288 with 1 Axes>"
            ]
          },
          "metadata": {
            "tags": [],
            "needs_background": "light"
          }
        },
        {
          "output_type": "display_data",
          "data": {
            "image/png": "[encoded data removed]",
            "text/plain": [
              "<Figure size 432x288 with 1 Axes>"
            ]
          },
          "metadata": {
            "tags": [],
            "needs_background": "light"
          }
        }
      ]
    },
    {
      "cell_type": "code",
      "metadata": {
        "id": "ZqTeY8SkgqeA"
      },
      "source": [
        "index_daily_return = daily_returns\n",
        "Average_index_daily_returns = np.mean(daily_returns, axis = 0)"
      ],
      "execution_count": null,
      "outputs": []
    },
    {
      "cell_type": "code",
      "metadata": {
        "id": "D2tnIWMKsHTM"
      },
      "source": [
        "daily_bond_index_value = 100*(1+total_returns/100)"
      ],
      "execution_count": null,
      "outputs": []
    },
    {
      "cell_type": "code",
      "metadata": {
        "id": "Ty31uCkAEbPH",
        "colab": {
          "base_uri": "https://localhost:8080/",
          "height": 388
        },
        "outputId": "7e44a1b6-1e64-4ad2-d734-ae1c49ddff96"
      },
      "source": [
        "# Max drawdown calculation\n",
        "i = np.argmax(np.maximum.accumulate(daily_bond_index_value) - daily_bond_index_value) # end of the period\n",
        "j = np.argmax(daily_bond_index_value[:i]) # start of period\n",
        "max_drawdown = 100*(daily_bond_index_value[j]-daily_bond_index_value[i])/(daily_bond_index_value[j])\n",
        "print(max_drawdown)\n",
        "print(daily_bond_index_value)\n",
        "plt.plot(daily_bond_index_value)\n",
        "plt.plot([i, j], [daily_bond_index_value[i], daily_bond_index_value[j]], 'o', color='Red', markersize=10)\n",
        "plt.ylabel('Daily Bond Index Value')\n",
        "plt.title('Plot displaying Maximum drawdown in month of April 2020')\n",
        "fig.show()"
      ],
      "execution_count": null,
      "outputs": [
        {
          "output_type": "stream",
          "text": [
            "1.0982823967010438\n",
            "[ 99.99400658 100.04066295  99.92438675 100.45992379 101.49846679\n",
            " 102.17114644 103.89890668 103.89890668 103.97152028 105.96348273\n",
            " 105.97046465 105.61725676 105.70352023 105.57895518 104.80660969\n",
            " 104.86677479 105.36560512 105.34401384 105.8248766  106.06575741\n",
            " 106.01521964 106.21538166]\n"
          ],
          "name": "stdout"
        },
        {
          "output_type": "display_data",
          "data": {
            "image/png": "[encoded data removed]",
            "text/plain": [
              "<Figure size 432x288 with 1 Axes>"
            ]
          },
          "metadata": {
            "tags": [],
            "needs_background": "light"
          }
        }
      ]
    },
    {
      "cell_type": "code",
      "metadata": {
        "id": "Qx-Wv0cytFiK",
        "colab": {
          "base_uri": "https://localhost:8080/",
          "height": 325
        },
        "outputId": "eaab8e74-3412-4def-8e9c-b937b5c1d08d"
      },
      "source": [
        "fig,ax = plt.subplots()\n",
        "ax.plot(dates, daily_bond_index_value, color=\"red\")\n",
        "ax.set_xlabel(\"Date\",fontsize=14)\n",
        "ax.set_ylabel(\" Daily Bond Index Value\",fontsize=14)\n",
        "plt.xticks(rotation = 75)\n",
        "fig.show()"
      ],
      "execution_count": null,
      "outputs": [
        {
          "output_type": "display_data",
          "data": {
            "image/png": "[encoded data removed]",
            "text/plain": [
              "<Figure size 432x288 with 1 Axes>"
            ]
          },
          "metadata": {
            "tags": [],
            "needs_background": "light"
          }
        }
      ]
    },
    {
      "cell_type": "code",
      "metadata": {
        "id": "sZ0-UtTItdwa",
        "colab": {
          "base_uri": "https://localhost:8080/",
          "height": 325
        },
        "outputId": "15ea12ad-1407-4307-c10e-4ff35f9a8807"
      },
      "source": [
        "fig,ax = plt.subplots()\n",
        "\n",
        "ax.plot(dates, daily_returns, color=\"red\")\n",
        "ax.set_xlabel(\"Date\",fontsize=14)\n",
        "ax.set_ylabel(\" Daily Bond Index Returns\",fontsize=14)\n",
        "plt.xticks(rotation = 75)\n",
        "fig.show()"
      ],
      "execution_count": null,
      "outputs": [
        {
          "output_type": "display_data",
          "data": {
            "image/png": "[encoded data removed]",
            "text/plain": [
              "<Figure size 432x288 with 1 Axes>"
            ]
          },
          "metadata": {
            "tags": [],
            "needs_background": "light"
          }
        }
      ]
    },
    {
      "cell_type": "code",
      "metadata": {
        "id": "WWqD8rbwu312",
        "colab": {
          "base_uri": "https://localhost:8080/",
          "height": 325
        },
        "outputId": "0fe9219b-f116-4ca9-f9f2-3cc99984396e"
      },
      "source": [
        "fig,ax = plt.subplots()\n",
        "\n",
        "ax.plot(dates, total_returns, color=\"red\")\n",
        "ax.set_xlabel(\"Date\",fontsize=14)\n",
        "ax.set_ylabel(\" Total Bond Index Returns\",fontsize=14)\n",
        "plt.xticks(rotation = 75)\n",
        "fig.show()"
      ],
      "execution_count": null,
      "outputs": [
        {
          "output_type": "display_data",
          "data": {
            "image/png": "[encoded data removed]",
            "text/plain": [
              "<Figure size 432x288 with 1 Axes>"
            ]
          },
          "metadata": {
            "tags": [],
            "needs_background": "light"
          }
        }
      ]
    },
    {
      "cell_type": "code",
      "metadata": {
        "id": "pYMVVQIJw1QB"
      },
      "source": [
        "df_month_end = df[df[\"Date\"] == '4/30/2020']"
      ],
      "execution_count": null,
      "outputs": []
    },
    {
      "cell_type": "code",
      "metadata": {
        "id": "9KuWW6S4yVkm",
        "colab": {
          "base_uri": "https://localhost:8080/"
        },
        "outputId": "4f6328cb-ea8b-492b-aca0-614f843d4879"
      },
      "source": [
        "sectors = df['Sector'].unique()\n",
        "print(sectors)"
      ],
      "execution_count": null,
      "outputs": [
        {
          "output_type": "stream",
          "text": [
            "['CONS' 'IND' 'TECH' 'FIN' 'E&U']\n"
          ],
          "name": "stdout"
        }
      ]
    },
    {
      "cell_type": "code",
      "metadata": {
        "id": "6pjaXPYFx-pY",
        "colab": {
          "base_uri": "https://localhost:8080/",
          "height": 297
        },
        "outputId": "27cab7e7-dda6-4999-e83a-c6fdc9206bae"
      },
      "source": [
        "#code to calculate the sectorwise returns\n",
        "sector_total_returns= []\n",
        "for i in range(len(sectors)) :\n",
        "  one_sector = df_month_end[df_month_end[\"Sector\"]==sectors[i]]\n",
        "  total_sector_weight = one_sector[\"Market_Value\"].sum()\n",
        "  sector_bond_weights = one_sector[[\"ID\",\"Market_Value\",\"Excess_Return_MTD\",\"Total_Return_MTD\"]]\n",
        "  sector_bond_weights[\"sector_bond_weights\"] = sector_bond_weights[\"Market_Value\"]/total_sector_weight\n",
        "  sector_bond_weights[\"Sector_Total_Return_MTD\"] = sector_bond_weights[\"sector_bond_weights\"]*sector_bond_weights[\"Total_Return_MTD\"]\n",
        "  sector_total_returns.append(sector_bond_weights[\"Sector_Total_Return_MTD\"].sum())\n",
        "sector_total_returns= np.asarray(sector_total_returns)\n",
        "print(sector_total_returns)\n",
        "\n",
        "plt.bar(sectors, sector_total_returns, alpha=0.8)\n",
        "plt.ylabel('Month End Returns')\n",
        "plt.xlabel('Sectors')\n",
        "plt.show()"
      ],
      "execution_count": null,
      "outputs": [
        {
          "output_type": "stream",
          "text": [
            "[8.29561979 7.58614515 5.59164204 5.21401153 3.53068983]\n"
          ],
          "name": "stdout"
        },
        {
          "output_type": "display_data",
          "data": {
            "image/png": "[encoded data removed]",
            "text/plain": [
              "<Figure size 432x288 with 1 Axes>"
            ]
          },
          "metadata": {
            "tags": [],
            "needs_background": "light"
          }
        }
      ]
    },
    {
      "cell_type": "code",
      "metadata": {
        "id": "yP8dZyML1Ule",
        "colab": {
          "base_uri": "https://localhost:8080/"
        },
        "outputId": "97cce8d9-e3f0-40aa-9470-c6e046818a12"
      },
      "source": [
        "#sanity check \n",
        "bond_weights[\"bond_index_weights\"].sum()"
      ],
      "execution_count": null,
      "outputs": [
        {
          "output_type": "execute_result",
          "data": {
            "text/plain": [
              "1.0"
            ]
          },
          "metadata": {
            "tags": []
          },
          "execution_count": 75
        }
      ]
    },
    {
      "cell_type": "code",
      "metadata": {
        "id": "YnH5Mxfvq1Bi"
      },
      "source": [
        "ids = df['ID'].unique()\n",
        "\n",
        "for id in ids:\n",
        "  dfi = df[df['ID']==id]"
      ],
      "execution_count": null,
      "outputs": []
    },
    {
      "cell_type": "code",
      "metadata": {
        "id": "C8IrUeRtNEjy"
      },
      "source": [
        "unique_bonds = df['ID'].unique()"
      ],
      "execution_count": null,
      "outputs": []
    },
    {
      "cell_type": "code",
      "metadata": {
        "id": "zuTVir-_MGMS"
      },
      "source": [
        "#daily returns calculation for each bond\n",
        "\n",
        "#total_returns= []\n",
        "n = len(unique_bonds)\n",
        "total_returns_MTD = np.zeros([n,22])\n",
        "excess_returns_MTD = np.zeros([n,22])\n",
        "for i in range(len(unique_bonds)) :\n",
        "  one_bond = df[df[\"ID\"]==unique_bonds[i]]\n",
        "  df_Sharp_temp = one_bond[[\"ID\",\"Market_Value\",\"Excess_Return_MTD\",\"Total_Return_MTD\"]]\n",
        "  one_bond[\"Daily_Total_Return\"] = one_bond[\"Total_Return_MTD\"]\n",
        "  total_returns_MTD[i,:] = one_bond[\"Total_Return_MTD\"].values\n",
        "  excess_returns_MTD[i,:] = one_bond[\"Excess_Return_MTD\"].values\n",
        "  # one_bond[\"Daily_Excess_Return\"] = one_bond[\"Excess_Return_MTD\"]\n",
        "\n",
        "total_returns_daily = np.zeros([n,22])\n",
        "excess_returns_daily = np.zeros([n,22])\n",
        "\n",
        "for i in range(n) :\n",
        "  total_returns_daily[i,0]=total_returns_MTD[i,0]\n",
        "  excess_returns_daily[i,0]=excess_returns_MTD[i,0]\n",
        "  for j in range(1,22) :\n",
        "    total_returns_daily[i,j] = total_returns_MTD[i,j]-total_returns_MTD[i,j-1]\n",
        "    excess_returns_daily[i,j] = excess_returns_MTD[i,j]-excess_returns_MTD[i,j-1]\n"
      ],
      "execution_count": null,
      "outputs": []
    },
    {
      "cell_type": "code",
      "metadata": {
        "id": "WBojNjMsYLzN"
      },
      "source": [
        "#sharp ratio calculation trial\n",
        "np.mean(excess_returns_daily[498,:], axis=0)\n",
        "np.std(total_returns_daily[498,:], axis=0)\n",
        "sharp_ratio = np.mean(excess_returns_daily[498,:], axis=0)/np.std(total_returns_daily[498,:], axis=0)"
      ],
      "execution_count": null,
      "outputs": []
    },
    {
      "cell_type": "code",
      "metadata": {
        "colab": {
          "base_uri": "https://localhost:8080/"
        },
        "id": "RqMAPCgPd-WT",
        "outputId": "6d554699-2ac8-4792-eaab-c7446761a524"
      },
      "source": [
        "#sharp ratio calculation\n",
        "n = len(unique_bonds)\n",
        "Mean_Excess_Returns = np.zeros([n,1])\n",
        "Variance_Daily_Returns = np.zeros([n,1])\n",
        "sharp_ratio_values = np.zeros([n])\n",
        "for i in range(len(unique_bonds)) :\n",
        "  Mean_Excess_Returns[i,0] = np.mean(excess_returns_daily[i,:], axis=0)\n",
        "  Variance_Daily_Returns[i,0] = np.std(total_returns_daily[i,:], axis=0)\n",
        "  sharp_ratio_values[i] = Mean_Excess_Returns[i,0]/Variance_Daily_Returns[i,0]\n",
        "\n",
        "#print(sharp_ratio_values)\n",
        "sharp_ratio_values.shape\n"
      ],
      "execution_count": null,
      "outputs": [
        {
          "output_type": "execute_result",
          "data": {
            "text/plain": [
              "(702,)"
            ]
          },
          "metadata": {
            "tags": []
          },
          "execution_count": 79
        }
      ]
    },
    {
      "cell_type": "code",
      "metadata": {
        "colab": {
          "base_uri": "https://localhost:8080/"
        },
        "id": "A8yzaUSelCKL",
        "outputId": "fdb24129-757b-4574-ce5b-fb307301c2f4"
      },
      "source": [
        "#code to calculate the top 20 Sharpe ratio bonds\n",
        "print(sharp_ratio_values.shape)\n",
        "ind = np.argpartition(sharp_ratio_values, -20)[-20:]\n",
        "print(ind)\n",
        "print(unique_bonds[ind])\n",
        "sharp_ratio_values[ind]"
      ],
      "execution_count": null,
      "outputs": [
        {
          "output_type": "stream",
          "text": [
            "(702,)\n",
            "[498 381 211 463 300 326 543 612 293 340 346 450 281 510 277 353 375 372\n",
            " 484 230]\n",
            "['B499' 'B382' 'B212' 'B464' 'B301' 'B327' 'B544' 'B613' 'B294' 'B341'\n",
            " 'B347' 'B451' 'B282' 'B511' 'B278' 'B354' 'B376' 'B373' 'B485' 'B231']\n"
          ],
          "name": "stdout"
        },
        {
          "output_type": "execute_result",
          "data": {
            "text/plain": [
              "array([0.72309574, 0.74537461, 0.75564292, 0.75859586, 0.78978596,\n",
              "       0.86612601, 0.77534636, 0.93208616, 0.73252357, 0.73992032,\n",
              "       0.90293421, 0.76854178, 0.82320386, 0.80153915, 0.85771441,\n",
              "       1.03542023, 0.81293951, 0.84032534, 0.75496166, 0.73639623])"
            ]
          },
          "metadata": {
            "tags": []
          },
          "execution_count": 80
        }
      ]
    },
    {
      "cell_type": "code",
      "metadata": {
        "id": "7eq_8CFYnvQv"
      },
      "source": [
        "return_vec = total_returns_daily[ind]"
      ],
      "execution_count": null,
      "outputs": []
    },
    {
      "cell_type": "code",
      "metadata": {
        "colab": {
          "base_uri": "https://localhost:8080/"
        },
        "id": "2dy2kssIoEhJ",
        "outputId": "ae72614c-bbde-4f0c-8692-bd6fec2488e9"
      },
      "source": [
        "%matplotlib inline\n",
        "import cvxopt as opt\n",
        "from cvxopt import blas, solvers\n",
        "import pandas as pd\n",
        "np.random.seed(123)\n",
        "solvers.options['show_progress'] = False\n",
        "import plotly\n",
        "import cufflinks\n",
        "plotly.__version__\n",
        "!pip install chart_studio\n",
        "import chart_studio.plotly as py\n",
        "import plotly.tools as tls   \n",
        "from plotly.graph_objs import *\n",
        "\n",
        "## NUMBER OF ASSETS\n",
        "n_assets = 20\n",
        "\n",
        "## NUMBER OF OBSERVATIONS\n",
        "n_obs = 22\n",
        "\n",
        "return_vec = total_returns_daily[ind]"
      ],
      "execution_count": null,
      "outputs": [
        {
          "output_type": "stream",
          "text": [
            "Requirement already satisfied: chart_studio in /usr/local/lib/python3.7/dist-packages (1.1.0)\n",
            "Requirement already satisfied: requests in /usr/local/lib/python3.7/dist-packages (from chart_studio) (2.23.0)\n",
            "Requirement already satisfied: six in /usr/local/lib/python3.7/dist-packages (from chart_studio) (1.15.0)\n",
            "Requirement already satisfied: retrying>=1.3.3 in /usr/local/lib/python3.7/dist-packages (from chart_studio) (1.3.3)\n",
            "Requirement already satisfied: plotly in /usr/local/lib/python3.7/dist-packages (from chart_studio) (4.4.1)\n",
            "Requirement already satisfied: urllib3!=1.25.0,!=1.25.1,<1.26,>=1.21.1 in /usr/local/lib/python3.7/dist-packages (from requests->chart_studio) (1.24.3)\n",
            "Requirement already satisfied: chardet<4,>=3.0.2 in /usr/local/lib/python3.7/dist-packages (from requests->chart_studio) (3.0.4)\n",
            "Requirement already satisfied: idna<3,>=2.5 in /usr/local/lib/python3.7/dist-packages (from requests->chart_studio) (2.10)\n",
            "Requirement already satisfied: certifi>=2017.4.17 in /usr/local/lib/python3.7/dist-packages (from requests->chart_studio) (2020.12.5)\n"
          ],
          "name": "stdout"
        }
      ]
    },
    {
      "cell_type": "code",
      "metadata": {
        "colab": {
          "base_uri": "https://localhost:8080/",
          "height": 279
        },
        "id": "kiNxTYILoeGj",
        "outputId": "3d25a17e-9db0-4bd5-b930-a4cb15195c80"
      },
      "source": [
        "#Efficient frontier code\n",
        "def optimal_portfolio(returns):\n",
        "    n = len(returns)\n",
        "    returns = np.asmatrix(returns)\n",
        "    \n",
        "    N = 100\n",
        "    mus = [10**(5.0 * t/N - 1.0) for t in range(N)]\n",
        "    \n",
        "    # Convert to cvxopt matrices\n",
        "    S = opt.matrix(np.cov(returns))\n",
        "    pbar = opt.matrix(np.mean(returns, axis=1))\n",
        "    \n",
        "    # Create constraint matrices\n",
        "    G = -opt.matrix(np.eye(n))   # negative n x n identity matrix\n",
        "    h = opt.matrix(0.0, (n ,1))\n",
        "    A = opt.matrix(1.0, (1, n))\n",
        "    b = opt.matrix(1.0)\n",
        "    \n",
        "    # Calculate efficient frontier weights using quadratic programming\n",
        "    portfolios = [solvers.qp(mu*S, -pbar, G, h, A, b)['x'] \n",
        "                  for mu in mus]\n",
        "    ## CALCULATE RISKS AND RETURNS FOR FRONTIER\n",
        "    returns = [blas.dot(pbar, x) for x in portfolios]\n",
        "    risks = [np.sqrt(blas.dot(x, S*x)) for x in portfolios]\n",
        "    ## CALCULATE THE 2ND DEGREE POLYNOMIAL OF THE FRONTIER CURVE\n",
        "    m1 = np.polyfit(returns, risks, 2)\n",
        "    x1 = np.sqrt(m1[2] / m1[0])\n",
        "    # CALCULATE THE OPTIMAL PORTFOLIO\n",
        "    wt = solvers.qp(opt.matrix(x1 * S), -pbar, G, h, A, b)['x']\n",
        "    return np.asarray(wt), returns, risks\n",
        "\n",
        "weights, returns, risks = optimal_portfolio(return_vec)\n",
        "\n",
        "fig = plt.figure()\n",
        "plt.plot(risks, returns, 'b-o')\n",
        "plt.ylabel('mean')\n",
        "plt.xlabel('std')\n",
        "plt.show()"
      ],
      "execution_count": null,
      "outputs": [
        {
          "output_type": "display_data",
          "data": {
            "image/png": "[encoded data removed]",
            "text/plain": [
              "<Figure size 432x288 with 1 Axes>"
            ]
          },
          "metadata": {
            "tags": [],
            "needs_background": "light"
          }
        }
      ]
    },
    {
      "cell_type": "code",
      "metadata": {
        "colab": {
          "base_uri": "https://localhost:8080/"
        },
        "id": "iizFi6ZZogT_",
        "outputId": "70c676eb-75fc-4c96-e0a8-e6432f3d450b"
      },
      "source": [
        "#Information Ratio Calculation\n",
        "portfolio_weights = weights[:,0]\n",
        "print(portfolio_weights)\n",
        "# print(return_vec[:,0])\n",
        "# print(portfolio_weights*return_vec[:,0])\n",
        "\n",
        "portfolio_returns = np.zeros(22)\n",
        "for i in range(22) :\n",
        "  portfolio_returns[i] = np.sum(portfolio_weights*return_vec[:,i])\n",
        "\n",
        "IR_std = np.std(portfolio_returns-index_daily_return)\n",
        "\n",
        "IR = (np.mean(portfolio_returns)-np.mean(index_daily_return))/IR_std\n",
        "print(IR)"
      ],
      "execution_count": null,
      "outputs": [
        {
          "output_type": "stream",
          "text": [
            "[6.45876901e-09 3.66515117e-09 2.23875234e-01 3.45314035e-09\n",
            " 2.63023265e-09 3.65907628e-09 5.79441528e-09 9.43706133e-09\n",
            " 1.47709522e-01 3.91985459e-09 5.86155169e-09 3.53270274e-09\n",
            " 5.04947425e-09 2.50048710e-01 2.22355895e-01 3.16414220e-09\n",
            " 2.32038781e-08 1.56010552e-01 4.30210621e-09 2.64131916e-09]\n",
            "1.6249802617582823\n"
          ],
          "name": "stdout"
        }
      ]
    },
    {
      "cell_type": "code",
      "metadata": {
        "colab": {
          "base_uri": "https://localhost:8080/"
        },
        "id": "UPSZvExLrKSH",
        "outputId": "bfa5baf2-82c6-46b8-9250-0f727e409d6d"
      },
      "source": [
        "#Code to print Bonds in the portfolio\n",
        "df_sectors_new = df[df[\"ID\"] == unique_bonds[ind[0]]].head(1)\n",
        "for i in range(0,len(ind)) :\n",
        "  temp = df[df[\"ID\"] == unique_bonds[ind[i]]].head(1)\n",
        "  print(temp)\n",
        "  "
      ],
      "execution_count": null,
      "outputs": [
        {
          "output_type": "stream",
          "text": [
            "         Date    ID Sector  ... Index_Rating  Excess_Return_MTD  Total_Return_MTD\n",
            "498  4/1/2020  B499    IND  ...       B3                 0.1788            0.0784\n",
            "\n",
            "[1 rows x 12 columns]\n",
            "         Date    ID Sector  ... Index_Rating  Excess_Return_MTD  Total_Return_MTD\n",
            "381  4/1/2020  B382    IND  ...       BA1                0.3784            0.2751\n",
            "\n",
            "[1 rows x 12 columns]\n",
            "         Date    ID Sector  ... Index_Rating  Excess_Return_MTD  Total_Return_MTD\n",
            "211  4/1/2020  B212   CONS  ...       BA2                2.6237             3.318\n",
            "\n",
            "[1 rows x 12 columns]\n",
            "         Date    ID Sector  ... Index_Rating  Excess_Return_MTD  Total_Return_MTD\n",
            "463  4/1/2020  B464   TECH  ...       CAA1               1.1886            1.1091\n",
            "\n",
            "[1 rows x 12 columns]\n",
            "         Date    ID Sector  ... Index_Rating  Excess_Return_MTD  Total_Return_MTD\n",
            "300  4/1/2020  B301   CONS  ...       B1                 0.0199            -0.085\n",
            "\n",
            "[1 rows x 12 columns]\n",
            "         Date    ID Sector  ... Index_Rating  Excess_Return_MTD  Total_Return_MTD\n",
            "326  4/1/2020  B327   CONS  ...       BA3                0.3602             0.254\n",
            "\n",
            "[1 rows x 12 columns]\n",
            "         Date    ID Sector  ... Index_Rating  Excess_Return_MTD  Total_Return_MTD\n",
            "543  4/1/2020  B544   CONS  ...       B2                 0.0585           -0.0411\n",
            "\n",
            "[1 rows x 12 columns]\n",
            "         Date    ID Sector  ... Index_Rating  Excess_Return_MTD  Total_Return_MTD\n",
            "612  4/1/2020  B613    IND  ...       B3                 0.3888            0.2972\n",
            "\n",
            "[1 rows x 12 columns]\n",
            "         Date    ID Sector  ... Index_Rating  Excess_Return_MTD  Total_Return_MTD\n",
            "293  4/1/2020  B294    IND  ...       B1                 3.9158            3.8381\n",
            "\n",
            "[1 rows x 12 columns]\n",
            "         Date    ID Sector  ... Index_Rating  Excess_Return_MTD  Total_Return_MTD\n",
            "340  4/1/2020  B341    IND  ...       B1                 0.2918            0.1901\n",
            "\n",
            "[1 rows x 12 columns]\n",
            "         Date    ID Sector  ... Index_Rating  Excess_Return_MTD  Total_Return_MTD\n",
            "346  4/1/2020  B347    IND  ...       BA3                0.0119           -0.0884\n",
            "\n",
            "[1 rows x 12 columns]\n",
            "         Date    ID Sector  ... Index_Rating  Excess_Return_MTD  Total_Return_MTD\n",
            "450  4/1/2020  B451   CONS  ...       BA3                0.0673           -0.0326\n",
            "\n",
            "[1 rows x 12 columns]\n",
            "         Date    ID Sector  ... Index_Rating  Excess_Return_MTD  Total_Return_MTD\n",
            "281  4/1/2020  B282    IND  ...       B3                 1.1707            1.0976\n",
            "\n",
            "[1 rows x 12 columns]\n",
            "         Date    ID Sector  ... Index_Rating  Excess_Return_MTD  Total_Return_MTD\n",
            "510  4/1/2020  B511   CONS  ...       B2                 0.3002            0.2085\n",
            "\n",
            "[1 rows x 12 columns]\n",
            "         Date    ID Sector  ... Index_Rating  Excess_Return_MTD  Total_Return_MTD\n",
            "277  4/1/2020  B278   CONS  ...       B2                 2.3918            2.2879\n",
            "\n",
            "[1 rows x 12 columns]\n",
            "         Date    ID Sector  ... Index_Rating  Excess_Return_MTD  Total_Return_MTD\n",
            "353  4/1/2020  B354   CONS  ...       BA2                0.2863            0.1867\n",
            "\n",
            "[1 rows x 12 columns]\n",
            "         Date    ID Sector  ... Index_Rating  Excess_Return_MTD  Total_Return_MTD\n",
            "375  4/1/2020  B376    IND  ...       B3                 0.5373             0.436\n",
            "\n",
            "[1 rows x 12 columns]\n",
            "         Date    ID Sector  ... Index_Rating  Excess_Return_MTD  Total_Return_MTD\n",
            "372  4/1/2020  B373   CONS  ...       B2                -0.2945           -0.3563\n",
            "\n",
            "[1 rows x 12 columns]\n",
            "         Date    ID Sector  ... Index_Rating  Excess_Return_MTD  Total_Return_MTD\n",
            "484  4/1/2020  B485    E&U  ...       BA2                1.3159            1.2185\n",
            "\n",
            "[1 rows x 12 columns]\n",
            "         Date    ID Sector  ... Index_Rating  Excess_Return_MTD  Total_Return_MTD\n",
            "230  4/1/2020  B231    IND  ...       B1                 0.2232            0.1313\n",
            "\n",
            "[1 rows x 12 columns]\n"
          ],
          "name": "stdout"
        }
      ]
    }
  ]
}